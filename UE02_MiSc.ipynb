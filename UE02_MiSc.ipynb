{
  "cells": [
    {
      "cell_type": "markdown",
      "metadata": {
        "id": "BS4vo37YWsYf"
      },
      "source": [
        "# UE02 - RDF and RDF Schema\n",
        "\n",
        "Before you start with this notebook, complete the eight tasks in the `1. RDF` sheet of `SemAI.jar`. You will then make use of your solutions in this notebook. \n",
        "\n",
        "## Task 0: Preparation\n",
        "\n",
        "Preparation (Installs and Imports). \n",
        "\n",
        "\n"
      ]
    },
    {
      "cell_type": "code",
      "source": [
        "!pip install -q rdflib \n",
        "!pip install -q pydot\n",
        "!pip install -q owlrl\n",
        "\n",
        "!pip install networkx pyvis\n",
        "\n",
        "import rdflib\n",
        "from rdflib import Graph, Literal, RDF, URIRef, BNode, Namespace, Dataset\n",
        "import networkx as nx\n",
        "from pyvis.network import Network\n",
        "import requests\n",
        "from IPython.display import display, HTML, Image\n",
        "import os\n",
        "import pydot\n",
        "import owlrl\n",
        "from rdflib.namespace import FOAF , XSD , RDFS"
      ],
      "metadata": {
        "id": "UNTabDt9SLuw"
      },
      "execution_count": null,
      "outputs": []
    },
    {
      "cell_type": "markdown",
      "source": [
        "## Task 1:  Improve interactive RDF graph visualization (1 pt)\n",
        "\n",
        "Improve function `visualize_graph_pyvis` (from `V01_rdf.ipynb`) as follows:\n",
        "- an optional `base` parameter\n",
        "- abbreviate the labels of nodes and edges in the same way as in `visualize_graph`. \n",
        "- make sure that blank node IDs are not shown in the visualization. \n",
        "\n",
        "Optional features: \n",
        "- use different graphical forms for literals and URIs\n",
        "- (add further improvements as you like)\n",
        "\n",
        "Test the function with `rdf_str` and with your solution to task `0. Intro` in the `1. RDF` sheet in `SemAI.jar`."
      ],
      "metadata": {
        "id": "vc2iBjkcQQvD"
      }
    },
    {
      "cell_type": "code",
      "source": [
        "def visualize_graph(g,base=None):\n",
        "\n",
        "  def node_id(graph,term):\n",
        "    if isinstance(term,Literal): return term.n3(graph.namespace_manager)\n",
        "    else: return f\"\\\"{term.n3(graph.namespace_manager)}\\\"\"\n",
        "\n",
        "  def add_node(dg,g,t,base):\n",
        "    if isinstance(t,URIRef):\n",
        "      lbl = f\"\\\"{t.n3(g.namespace_manager)}\\\"\"\n",
        "      if(base): lbl = lbl.replace(base,\"\")\n",
        "      if(len(lbl)>25): lbl = lbl[:12] + \"...\" +  lbl[-12:] \n",
        "      dg.add_node(pydot.Node( node_id(g,t), label=lbl ))\n",
        "    if isinstance(t,Literal):\n",
        "      dg.add_node(pydot.Node( node_id(g,t), label=t.n3(g.namespace_manager), shape=\"box\"))\n",
        "    if isinstance(t,BNode):\n",
        "      dg.add_node(pydot.Node( node_id(g,t), label=\"\"))    \n",
        "\n",
        "  def add_edge(dg,g,s,p,o):\n",
        "    dg.add_edge(pydot.Edge(node_id(g,s), node_id(g,o), label=f\"\\\"{p.n3(g.namespace_manager)}\\\"\"))\n",
        "\n",
        "  dg = pydot.Dot('my_graph', graph_type='digraph',layout='sfdp', splines='curved' )\n",
        "\n",
        "  for subj in g.subjects(None,None): add_node(dg,g,subj,base)\n",
        "  for obj in g.objects(None,None): add_node(dg,g,obj,base)\n",
        "  for (s,p,o) in g: add_edge(dg,g,s,p,o)   \n",
        "\n",
        "  display(Image(dg.create_png()))\n",
        "\n",
        "def visualize_graph_pyvis(g:Graph, base:str=None):\n",
        "    LITERAL_PREFIX=\"___INTERNAL___LITERAL___\"\n",
        "\n",
        "    # Create the NetworkX graph\n",
        "    nx_graph = nx.DiGraph()\n",
        "\n",
        "    # for s, p, o in g:\n",
        "    #     nx_graph.add_edge(s, o, label=p)\n",
        "\n",
        "    for s, p, o in g:\n",
        "      _s = s.n3(g.namespace_manager)\n",
        "      _o = o.n3(g.namespace_manager)\n",
        "      _p = p.n3(g.namespace_manager)\n",
        "\n",
        "      # Replace base\n",
        "      if base:\n",
        "        _s = _s.replace(base,\"\")\n",
        "        _o = _o.replace(base,\"\")\n",
        "        _p = _p.replace(base,\"\")\n",
        "\n",
        "      # Abbreviate labels\n",
        "      # We use horizontal ellipsis instead of three dots because it is more nice and clean for data display: https://www.compart.com/en/unicode/U+2026\n",
        "      _s = _s[:12] + '\\u2026'+  _s[-12:] if len(_s)> 25 else _s\n",
        "      _o = _o[:12] + '\\u2026'+ _o[-12:] if len(_o)> 25 else _o\n",
        "      _p = _p[:12] + '\\u2026'+ _p[-12:] if len(_p)> 25 else _p\n",
        "\n",
        "      # Do not show blank node IDs\n",
        "      # Slides page 22: Only subject or object can be a blank node, so we do not need to check and change the predicate.\n",
        "      if isinstance(s,BNode):\n",
        "        _s=\"\"\n",
        "      if isinstance(o,BNode):\n",
        "        _o=\"\"     \n",
        "\n",
        "      # Use a different graphical form for literals\n",
        "      # Slides page 22: Only object can be a literal, so we do not need to check and change subject and predicate.\n",
        "      if isinstance(o,Literal):\n",
        "        _o=LITERAL_PREFIX+_o\n",
        "\n",
        "      nx_graph.add_edge(_s, _o, label=_p)\n",
        "\n",
        "    # Create a PyVis network graph\n",
        "    # set directed to true - otherwise an edge is lost in the visualization of 3.Reification\n",
        "    pyvis_graph = Network(notebook=True, directed=True, cdn_resources='in_line',bgcolor=\"#EEEEEE\")\n",
        "    pyvis_graph.from_nx(nx_graph)\n",
        "\n",
        "    # Customize the node appearance\n",
        "    for node in pyvis_graph.nodes:\n",
        "        # Use a different graphical form for literals\n",
        "        if node[\"label\"].startswith(LITERAL_PREFIX): \n",
        "          node[\"shape\"]=\"square\"\n",
        "          node[\"label\"]=node[\"label\"].replace(LITERAL_PREFIX,\"\")\n",
        "        else: node[\"shape\"] = \"dot\"\n",
        "        node[\"size\"] = 10\n",
        "        node[\"font\"] = {\"size\": 10}\n",
        "\n",
        "    # Customize the edge appearance\n",
        "    for edge in pyvis_graph.edges:\n",
        "        edge[\"width\"] = 0.5\n",
        "        edge[\"font\"] = {\"size\": 8, \"align\": \"middle\"}\n",
        "        edge[\"arrows\"] = \"to\"\n",
        "\n",
        "    # Define the HTML file name\n",
        "    html_file = 'graph.html'    \n",
        "    \n",
        "    # Show the graph in the notebook\n",
        "    pyvis_graph.show(html_file)\n",
        "\n",
        "    # Check if the file exists\n",
        "    if os.path.isfile(html_file):\n",
        "        # Read the content of the HTML file\n",
        "        with open(html_file, 'r') as file:\n",
        "            html_content = file.read()\n",
        "        # Display the HTML content in the notebook\n",
        "        display(HTML(html_content))\n",
        "    else:\n",
        "        print(f\"File not found: {html_file}\")"
      ],
      "metadata": {
        "id": "Yh8SBUvqVkUU"
      },
      "execution_count": null,
      "outputs": []
    },
    {
      "cell_type": "code",
      "source": [
        "rdf_str = \"\"\"BASE   <http://example.org/>\n",
        "PREFIX foaf: <http://xmlns.com/foaf/0.1/>\n",
        "PREFIX xsd: <http://www.w3.org/2001/XMLSchema#>\n",
        "PREFIX schema: <http://schema.org/>\n",
        "PREFIX dcterms: <http://purl.org/dc/terms/>\n",
        "PREFIX wd: <http://www.wikidata.org/entity/>\n",
        " \n",
        "<bob#me>\n",
        "   a foaf:Person ;\n",
        "   foaf:knows <alice#me> ;\n",
        "   schema:birthDate \"1990-07-04\"^^xsd:date ;\n",
        "   foaf:topic_interest wd:Q12418 .\n",
        "   \n",
        "wd:Q12418\n",
        "  dcterms:title \"Mona Lisa\" ;\n",
        "  dcterms:creator <http://dbpedia.org/resource/Leonardo_da_Vinci> .\n",
        "\n",
        "<http://data.europeana.eu/item/04802/243FA8618938F4117025F17A8B813C5F9AA4D619>\n",
        "  dcterms:subject wd:Q12418 .\n",
        "\"\"\"\n",
        "\n",
        "g_rdf_str = Graph()\n",
        "g_rdf_str.parse(data=rdf_str)\n",
        "print(g_rdf_str.serialize(format=\"turtle\", base=\"http://example.org/\"))\n",
        "visualize_graph(g_rdf_str, base=\"http://example.org/\")\n",
        "visualize_graph_pyvis(g_rdf_str, base=\"http://example.org/\")\n"
      ],
      "metadata": {
        "id": "Y3-jE3kNQAY4"
      },
      "execution_count": null,
      "outputs": []
    },
    {
      "cell_type": "code",
      "source": [
        "t0 = \"\"\"@prefix rdf:  <http://www.w3.org/1999/02/22-rdf-syntax-ns#> .\n",
        "@prefix foaf: <http://xmlns.com/foaf/0.1/> .\n",
        "@prefix ex:   <http://www.ex.org/> .\n",
        "\n",
        "ex:John a foaf:Person.\n",
        "ex:John foaf:knows ex:Mary.\n",
        "\"\"\"\n",
        "\n",
        "g_t0 = Graph()\n",
        "g_t0.parse(data=t0, format=\"text/turtle\")\n",
        "print(g_t0.serialize(format=\"turtle\", base=None))\n",
        "visualize_graph_pyvis(g_t0)"
      ],
      "metadata": {
        "id": "wqfsN4-mJfea"
      },
      "execution_count": null,
      "outputs": []
    },
    {
      "cell_type": "markdown",
      "source": [
        "## Task 2:  Print RDF graph as HTML table (1 pt)\n",
        "\n",
        "Implement a function `rdf2htmltable(g)` that \n",
        "- takes as parameter an rdflib.Graph \n",
        "- generates and displays an HTML table representing that graph with\n",
        "  - one line per RDF statement \n",
        "  - three columns (subject, predicate, object) \n",
        "  - URIs should be shown in abbreviated form and be represented as links (`href=<full URI>`)\n",
        "\n",
        "Test the function with `rdf_str` and with your solution to task `0. Intro` in the `1. RDF` sheet in `SemAI.jar`."
      ],
      "metadata": {
        "id": "yF2WQ0YsQbhH"
      }
    },
    {
      "cell_type": "code",
      "source": [
        "def rdf2htmltable(g:Graph):\n",
        "  table_rows = []\n",
        "  for s, p ,o in  g:\n",
        "    _s = '<a href=\"{0}\">{1}</a>'.format(s, s.n3(g.namespace_manager).replace(\"<\",\"\").replace(\">\",\"\")) \n",
        "    _p = '<a href=\"{0}\">{1}</a>'.format(p, p.n3(g.namespace_manager).replace(\"<\",\"\").replace(\">\",\"\"))\n",
        "    _o = '<a href=\"{0}\">{1}</a>'.format(o, o.n3(g.namespace_manager).replace(\"<\",\"\").replace(\">\",\"\"))\n",
        "    row = '<tr><td>{0}</td><td>{1}</td><td>{2}</td></tr>'.format(_s, _p, _o)\n",
        "    table_rows.append(row)\n",
        "  table_header =  '<tr><th>Subject</th><th>Predicate</th><th>Object</th></tr>'\n",
        "  table_html = '<table>{0}{1}</table>'.format(table_header, ''.join(table_rows))\n",
        "  display(HTML(table_html))\n",
        "\n"
      ],
      "metadata": {
        "id": "Hz7PpFVjTkZG"
      },
      "execution_count": null,
      "outputs": []
    },
    {
      "cell_type": "code",
      "source": [
        "rdf2htmltable(g_rdf_str)"
      ],
      "metadata": {
        "id": "OtcXnjJoVbsW"
      },
      "execution_count": null,
      "outputs": []
    },
    {
      "cell_type": "code",
      "source": [
        "rdf2htmltable(g_t0)"
      ],
      "metadata": {
        "id": "QltXGorpNNHQ"
      },
      "execution_count": null,
      "outputs": []
    },
    {
      "cell_type": "markdown",
      "source": [
        "## Task 3: A function for parsing and displaying an RDF graph (1 pt)\n",
        "\n",
        "A function `parse_display_rdf(str)` that takes as parameter a string which represents an RDF graph in Turtle notation and \n",
        "- produces an rdflib.Graph from that string\n",
        "- prints the graph in Turte notation\n",
        "- prints the graph in RDF/XML\n",
        "- visualizes it using `visualize_graph` (to be taken from `V01_rdf.ipynb`)\n",
        "- visualizes it using (your improved version of) `visualize_graph_pyvis`\n",
        "- outputs it using `rdf2htmltable` (only if you have implemented this function)\n",
        "\n",
        "Test the function with `rdf_str` and with your solution to task `0. Intro` in the `1. RDF` sheet in `SemAI.jar`."
      ],
      "metadata": {
        "id": "AvL1cSUQQNFg"
      }
    },
    {
      "cell_type": "code",
      "source": [
        "def parse_display_rdf(s:str):\n",
        "  g = Graph()\n",
        "  g.parse(data=s, format=\"text/turtle\")\n",
        "  print(\"Turtle:\\n\"+g.serialize(format=\"turtle\"))\n",
        "  print(\"RDF/XML:\\n\"+g.serialize(format=\"xml\"))\n",
        "  visualize_graph(g)\n",
        "  visualize_graph_pyvis(g)\n",
        "  rdf2htmltable(g)\n",
        "\n",
        "\n"
      ],
      "metadata": {
        "id": "nr-PRsrzTnQP"
      },
      "execution_count": null,
      "outputs": []
    },
    {
      "cell_type": "code",
      "source": [
        "parse_display_rdf(t0)"
      ],
      "metadata": {
        "id": "RMEpYAYCUehd"
      },
      "execution_count": null,
      "outputs": []
    },
    {
      "cell_type": "code",
      "source": [
        "parse_display_rdf(rdf_str)"
      ],
      "metadata": {
        "id": "j-aryrSmUeSt"
      },
      "execution_count": null,
      "outputs": []
    },
    {
      "cell_type": "markdown",
      "source": [
        "# Tasks 4-10 (1 point each)\n",
        "\n",
        "For each of the remaining 7 tasks in the \"1. RDF\" sheet in `SemAI.jar` do the following: \n",
        "- add a text cell in this notebook \n",
        "  - with the description of the task from `SemAI.jar` \n",
        "  - with number and title (e.g., **1. Simple Data Graph**)  from `SemAI.jar` as header \n",
        "- add a code cell where you apply `parse_display_rdf(str)` on your solution"
      ],
      "metadata": {
        "id": "6efAFC8dQexI"
      }
    },
    {
      "cell_type": "markdown",
      "source": [
        "# 1. Simple Data Graph\n",
        "\n",
        "Create an RDF graph in Turtle notation. Use the FOAF vocabulary to state the following.\n",
        "\n",
        "* Mary and Jim are persons.\n",
        "* Mary knows Jim.\n",
        "* Mary is 27 years old.\n",
        "\n",
        "The URIs for the two persons should be http://www.ex.org/person#Mary and http://www.ex.org/person#Jim. The age of Mary should be represented as an integer."
      ],
      "metadata": {
        "id": "1qTbEcCC6jCc"
      }
    },
    {
      "cell_type": "code",
      "source": [
        "solution=\"\"\"@prefix rdf:  <http://www.w3.org/1999/02/22-rdf-syntax-ns#> .\n",
        "@prefix rdfs: <http://www.w3.org/2000/01/rdf-schema#> .\n",
        "@prefix xsd:  <http://www.w3.org/2001/XMLSchema#> .\n",
        "@prefix foaf: <http://xmlns.com/foaf/0.1/> .\n",
        "@prefix :     <http://www.ex.org/person#> .\n",
        "\n",
        ":Mary \n",
        "a foaf:Person;\n",
        "foaf:age \"27\"^^xsd:integer;\n",
        "foaf:knows :Jim.\n",
        "\n",
        ":Jim rdf:type foaf:Person.\n",
        "\"\"\"\n",
        "parse_display_rdf(solution)"
      ],
      "metadata": {
        "id": "5gfbdLgb6jpF"
      },
      "execution_count": null,
      "outputs": []
    },
    {
      "cell_type": "markdown",
      "source": [
        "# 2. Simple Schema\n",
        "\n",
        "Create a vocabulary using RDFS in Turtle. Specify\n",
        "\n",
        "* Classes *Company*, *Employee*, and *Person*\n",
        "* Property *worksFor* between *Employee* and *Company*\n",
        "* Property *salary* of *Employee* with Integer as data type\n",
        "* Class *Employee* is a subclass of *Person*\n",
        "\n",
        "Use XSD for data types. The URIs of classes and properties are in namespace <http://www.ex.org/vocabulary#>, for example, <http://www.ex.org/vocabulary#Company>"
      ],
      "metadata": {
        "id": "ZH_kXU4r7Y7T"
      }
    },
    {
      "cell_type": "code",
      "source": [
        "solution=\"\"\"@prefix rdf:  <http://www.w3.org/1999/02/22-rdf-syntax-ns#> .\n",
        "@prefix rdfs: <http://www.w3.org/2000/01/rdf-schema#> .\n",
        "@prefix xsd:  <http://www.w3.org/2001/XMLSchema#> .\n",
        "@prefix :     <http://www.ex.org/vocabulary#> .\n",
        "\n",
        ":Company a rdfs:Class.\n",
        ":Employee a rdfs:Class.\n",
        ":Person a rdfs:Class.\n",
        ":Employee rdfs:subClassOf :Person.\n",
        "\n",
        ":worksFor rdf:type rdf:Property.\n",
        ":worksFor rdfs:domain :Employee.\n",
        ":worksFor rdfs:range :Company.\n",
        "\n",
        ":salary rdf:type rdf:Property.\n",
        ":salary rdfs:domain :Employee.\n",
        ":salary rdfs:range xsd:integer.\n",
        "\"\"\"\n",
        "parse_display_rdf(solution)"
      ],
      "metadata": {
        "id": "HMDJejcd7ZSL"
      },
      "execution_count": null,
      "outputs": []
    },
    {
      "cell_type": "markdown",
      "source": [
        "# 3. Reification\n",
        "\n",
        "Create an RDF graph in Turtle notation. Use the RDF vocabulary where applicable and the example namesspace (ex:) for all other resources (ex:Mary, ex:John, ex:says, ex:loves). Hint: the lecture slides contain a similar reification example.\n",
        "\n",
        "* Mary says that John loves her."
      ],
      "metadata": {
        "id": "_foijBLf8i4i"
      }
    },
    {
      "cell_type": "code",
      "source": [
        "solution=\"\"\"@prefix rdf:  <http://www.w3.org/1999/02/22-rdf-syntax-ns#> .\n",
        "@prefix ex:   <http://www.ex.org/> .\n",
        "\n",
        "ex:Statement a rdf:Statement.\n",
        "ex:Mary ex:says ex:Statement.\n",
        "\n",
        "ex:Statement rdf:subject ex:John.\n",
        "ex:Statement rdf:object ex:Mary.\n",
        "ex:Statement rdf:predicate ex:loves.\n",
        "\"\"\"\n",
        "parse_display_rdf(solution)"
      ],
      "metadata": {
        "id": "r0nyy6S88jcC"
      },
      "execution_count": null,
      "outputs": []
    },
    {
      "cell_type": "markdown",
      "source": [
        "# 4. Blank Node\n",
        "\n",
        "Create an RDF graph in Turtle notation. Use the RDF and FOAF vocabularies where applicable and the example namesspace (ex:) for the other resources.\n",
        "\n",
        "* John knows a person, who knows Mary.\n",
        "* Use a blank node to represent that anonymous person."
      ],
      "metadata": {
        "id": "1orOTSMVBYrr"
      }
    },
    {
      "cell_type": "code",
      "source": [
        "solution = \"\"\"@prefix rdf:  <http://www.w3.org/1999/02/22-rdf-syntax-ns#> .\n",
        "@prefix foaf: <http://xmlns.com/foaf/0.1/> .\n",
        "@prefix ex:   <http://www.ex.org/> .\n",
        "\n",
        "ex:John foaf:knows [\n",
        "    foaf:knows ex:Mary;\n",
        "    a foaf:Person\n",
        "] .\n",
        "\"\"\"\n",
        "parse_display_rdf(solution)"
      ],
      "metadata": {
        "id": "O-UDY2VaBcuQ"
      },
      "execution_count": null,
      "outputs": []
    },
    {
      "cell_type": "markdown",
      "source": [
        "# 5. Multiple Classification\n",
        "\n",
        "Create an RDF graph in Turtle notation. Use the RDF vocabulary where applicable and the example namesspace (ex:) for the other resources.\n",
        "\n",
        "* John is an instance of SoccerPlayer and of Student."
      ],
      "metadata": {
        "id": "EAlZBqv39hu5"
      }
    },
    {
      "cell_type": "code",
      "source": [
        "solution=\"\"\"@prefix rdf:  <http://www.w3.org/1999/02/22-rdf-syntax-ns#> .\n",
        "@prefix ex:   <http://www.ex.org/> .\n",
        "\n",
        "ex:John rdf:type ex:SoccerPlayer.\n",
        "ex:John rdf:type ex:Student.\n",
        "\"\"\"\n",
        "parse_display_rdf(solution)"
      ],
      "metadata": {
        "id": "CjNuk1_p9iPI"
      },
      "execution_count": null,
      "outputs": []
    },
    {
      "cell_type": "markdown",
      "source": [
        "# 6. Metamodeling\n",
        "Create an RDF graph in Turtle notation. Use the RDF and RDF Schema vocabularies where applicable and the example namesspace (ex:) for the other resources.\n",
        "\n",
        "* *Dog* and *Cat* are instances of *Species* and subclasses of *Animal*.\n",
        "* *Lassie* is an instance of *Dog*."
      ],
      "metadata": {
        "id": "EWdmw0NO9zj4"
      }
    },
    {
      "cell_type": "code",
      "source": [
        "solution=\"\"\"@prefix rdf:  <http://www.w3.org/1999/02/22-rdf-syntax-ns#> .\n",
        "@prefix rdfs: <http://www.w3.org/2000/01/rdf-schema#> .\n",
        "@prefix ex:   <http://www.ex.org/> .\n",
        "\n",
        "ex:Dog a ex:Species.\n",
        "ex:Dog rdfs:subClassOf ex:Animal.\n",
        "ex:Cat a ex:Species.\n",
        "ex:Cat rdfs:subClassOf ex:Animal.\n",
        "ex:Lassie a ex:Dog.\n",
        "\"\"\"\n",
        "parse_display_rdf(solution)"
      ],
      "metadata": {
        "id": "n5E_7iJU9z1h"
      },
      "execution_count": null,
      "outputs": []
    },
    {
      "cell_type": "markdown",
      "source": [
        "#7. Properties\n",
        "\n",
        "Create an RDF graph in Turtle notation. Use the RDF and RDF Schema vocabularies where applicable and the example namesspace (ex:) for the other resources, e.g., ex:childOf, ex:descendantOf.\n",
        "\n",
        "* Everyone who is a *child* of someone, is also a *descendant* of that someone."
      ],
      "metadata": {
        "id": "MqNc6jdo_Nh2"
      }
    },
    {
      "cell_type": "code",
      "source": [
        "solution=\"\"\"@prefix rdf:  <http://www.w3.org/1999/02/22-rdf-syntax-ns#> .\n",
        "@prefix rdfs: <http://www.w3.org/2000/01/rdf-schema#> .\n",
        "@prefix ex:   <http://www.ex.org/> .\n",
        "\n",
        "ex:childOf rdfs:subPropertyOf ex:descendantOf.\n",
        "\"\"\"\n",
        "parse_display_rdf(solution)"
      ],
      "metadata": {
        "id": "UAlPRMT2_g6G"
      },
      "execution_count": null,
      "outputs": []
    }
  ],
  "metadata": {
    "kernelspec": {
      "display_name": "Python 3",
      "language": "python",
      "name": "python3"
    },
    "language_info": {
      "codemirror_mode": {
        "name": "ipython",
        "version": 3
      },
      "file_extension": ".py",
      "mimetype": "text/x-python",
      "name": "python",
      "nbconvert_exporter": "python",
      "pygments_lexer": "ipython3",
      "version": "3.6.7"
    },
    "colab": {
      "provenance": []
    }
  },
  "nbformat": 4,
  "nbformat_minor": 0
}